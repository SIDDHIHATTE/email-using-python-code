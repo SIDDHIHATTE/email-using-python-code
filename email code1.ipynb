{
 "cells": [
  {
   "cell_type": "markdown",
   "id": "a449618d",
   "metadata": {},
   "source": [
    "# Email code by python only\n"
   ]
  },
  {
   "cell_type": "code",
   "execution_count": 1,
   "id": "a38c25e1",
   "metadata": {},
   "outputs": [],
   "source": [
    "import smtplib \n",
    "from email.message import EmailMessage"
   ]
  },
  {
   "cell_type": "code",
   "execution_count": 2,
   "id": "5bab0edb",
   "metadata": {},
   "outputs": [
    {
     "name": "stdout",
     "output_type": "stream",
     "text": [
      "Enter users name. \n",
      "Enter recivers email_id. \n",
      "Enter subject. \n",
      "Enter content you want to send. \n"
     ]
    }
   ],
   "source": [
    "email = EmailMessage()\n",
    "\n",
    "users_name = input(\"Enter users name. \")\n",
    "\n",
    "email['from'] = f'{users_name}'\n",
    "\n",
    "recivers_email_id = input(\"Enter recivers email_id. \")\n",
    "\n",
    "email['to'] = f'{recivers_email_id }'\n",
    "\n",
    "subject = input(\"Enter subject. \")\n",
    "\n",
    "email['subject'] = f'{subject}'\n",
    "\n",
    "content = input(\"Enter content you want to send. \")\n",
    "\n",
    "email.set_content(f'{content}')"
   ]
  },
  {
   "cell_type": "code",
   "execution_count": null,
   "id": "7957b950",
   "metadata": {},
   "outputs": [],
   "source": [
    "with smtplib.SMTP(host = 'smtp.gmail.com', port = 587) as smtp:\n",
    "    smtp.ehlo() \n",
    "    smtp.starttls() \n",
    "    \n",
    "    users_email_id = input(\"Enter users email_id. \")\n",
    "    passward = input(\"Enter email passward. \")\n",
    "    \n",
    "    smtp.login(f'{users_email_id}', f'{passward}') \n",
    "    \n",
    "    smtp.send_message(email) \n",
    "    print(\"All done!!!\")"
   ]
  },
  {
   "cell_type": "code",
   "execution_count": null,
   "id": "9bec444c",
   "metadata": {},
   "outputs": [],
   "source": []
  }
 ],
 "metadata": {
  "kernelspec": {
   "display_name": "Python 3 (ipykernel)",
   "language": "python",
   "name": "python3"
  },
  "language_info": {
   "codemirror_mode": {
    "name": "ipython",
    "version": 3
   },
   "file_extension": ".py",
   "mimetype": "text/x-python",
   "name": "python",
   "nbconvert_exporter": "python",
   "pygments_lexer": "ipython3",
   "version": "3.9.7"
  }
 },
 "nbformat": 4,
 "nbformat_minor": 5
}
